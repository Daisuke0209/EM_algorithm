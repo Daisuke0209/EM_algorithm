{
  "nbformat": 4,
  "nbformat_minor": 0,
  "metadata": {
    "colab": {
      "name": "190226_EM_algorithm.ipynb",
      "version": "0.3.2",
      "provenance": [],
      "collapsed_sections": [],
      "include_colab_link": true
    },
    "kernelspec": {
      "name": "python3",
      "display_name": "Python 3"
    }
  },
  "cells": [
    {
      "cell_type": "markdown",
      "metadata": {
        "id": "view-in-github",
        "colab_type": "text"
      },
      "source": [
        "<a href=\"https://colab.research.google.com/github/Daisuke0209/EM_algorithm/blob/master/190226_EM_algorithm.ipynb\" target=\"_parent\"><img src=\"https://colab.research.google.com/assets/colab-badge.svg\" alt=\"Open In Colab\"/></a>"
      ]
    },
    {
      "metadata": {
        "id": "PiRy_Nk3FLC8",
        "colab_type": "text"
      },
      "cell_type": "markdown",
      "source": [
        "# 混合ガウス分布におけるEMアルゴリズムの実装"
      ]
    },
    {
      "metadata": {
        "id": "POsYK-FLKoxP",
        "colab_type": "text"
      },
      "cell_type": "markdown",
      "source": [
        "## ライブラリのインポート"
      ]
    },
    {
      "metadata": {
        "id": "6ot2-nfIIZVt",
        "colab_type": "code",
        "colab": {}
      },
      "cell_type": "code",
      "source": [
        "import pandas as pd\n",
        "import matplotlib.pyplot as plt\n",
        "from sklearn import preprocessing as pre\n",
        "import numpy as np\n",
        "from mpl_toolkits.mplot3d import Axes3D\n",
        "from scipy.stats import multivariate_normal as MN\n",
        "import math"
      ],
      "execution_count": 0,
      "outputs": []
    },
    {
      "metadata": {
        "id": "hLOjeuXfKsHw",
        "colab_type": "text"
      },
      "cell_type": "markdown",
      "source": [
        "## Google Driveへのマウント"
      ]
    },
    {
      "metadata": {
        "id": "VF5p590rEVtC",
        "colab_type": "code",
        "outputId": "f704be3c-70ee-4d7c-980d-1b9a3cb9723e",
        "colab": {
          "base_uri": "https://localhost:8080/",
          "height": 55
        }
      },
      "cell_type": "code",
      "source": [
        "#Google Driveのマウントを取る\n",
        "from google.colab import drive\n",
        "drive.mount('/content/gdrive')"
      ],
      "execution_count": 474,
      "outputs": [
        {
          "output_type": "stream",
          "text": [
            "Drive already mounted at /content/gdrive; to attempt to forcibly remount, call drive.mount(\"/content/gdrive\", force_remount=True).\n"
          ],
          "name": "stdout"
        }
      ]
    },
    {
      "metadata": {
        "id": "2pPwz80hKvL-",
        "colab_type": "text"
      },
      "cell_type": "markdown",
      "source": [
        "## Old Faithful間欠泉データをGitHubから取ってくる"
      ]
    },
    {
      "metadata": {
        "id": "n6cpTk5fGmud",
        "colab_type": "code",
        "outputId": "134cd8cd-60ab-444f-e7c6-b3122547627c",
        "colab": {
          "base_uri": "https://localhost:8080/",
          "height": 35
        }
      },
      "cell_type": "code",
      "source": [
        "!git clone https://github.com/aidiary/PRML.git"
      ],
      "execution_count": 475,
      "outputs": [
        {
          "output_type": "stream",
          "text": [
            "fatal: destination path 'PRML' already exists and is not an empty directory.\n"
          ],
          "name": "stdout"
        }
      ]
    },
    {
      "metadata": {
        "id": "5iq5gkekK-P2",
        "colab_type": "text"
      },
      "cell_type": "markdown",
      "source": [
        "## データフレームへの読み込み\n",
        "Jettin time[min]が間欠泉の噴出時間、Waiting time[min]が次の間欠泉噴出までの待ち時間"
      ]
    },
    {
      "metadata": {
        "id": "QMAqXWh-Hczs",
        "colab_type": "code",
        "outputId": "ac97f6ea-8b1e-46b3-ab3d-a61333d92bee",
        "colab": {
          "base_uri": "https://localhost:8080/",
          "height": 198
        }
      },
      "cell_type": "code",
      "source": [
        "df = pd.read_table('/content/PRML/ch9/faithful.txt',delim_whitespace=True)\n",
        "features=['Jetting time[min]','Waiting time[min]']\n",
        "df.columns=[features]\n",
        "df.head()"
      ],
      "execution_count": 476,
      "outputs": [
        {
          "output_type": "execute_result",
          "data": {
            "text/html": [
              "<div>\n",
              "<style scoped>\n",
              "    .dataframe tbody tr th:only-of-type {\n",
              "        vertical-align: middle;\n",
              "    }\n",
              "\n",
              "    .dataframe tbody tr th {\n",
              "        vertical-align: top;\n",
              "    }\n",
              "\n",
              "    .dataframe thead tr th {\n",
              "        text-align: left;\n",
              "    }\n",
              "</style>\n",
              "<table border=\"1\" class=\"dataframe\">\n",
              "  <thead>\n",
              "    <tr>\n",
              "      <th></th>\n",
              "      <th>Jetting time[min]</th>\n",
              "      <th>Waiting time[min]</th>\n",
              "    </tr>\n",
              "  </thead>\n",
              "  <tbody>\n",
              "    <tr>\n",
              "      <th>0</th>\n",
              "      <td>1.800</td>\n",
              "      <td>54.0</td>\n",
              "    </tr>\n",
              "    <tr>\n",
              "      <th>1</th>\n",
              "      <td>3.333</td>\n",
              "      <td>74.0</td>\n",
              "    </tr>\n",
              "    <tr>\n",
              "      <th>2</th>\n",
              "      <td>2.283</td>\n",
              "      <td>62.0</td>\n",
              "    </tr>\n",
              "    <tr>\n",
              "      <th>3</th>\n",
              "      <td>4.533</td>\n",
              "      <td>85.0</td>\n",
              "    </tr>\n",
              "    <tr>\n",
              "      <th>4</th>\n",
              "      <td>2.883</td>\n",
              "      <td>55.0</td>\n",
              "    </tr>\n",
              "  </tbody>\n",
              "</table>\n",
              "</div>"
            ],
            "text/plain": [
              "  Jetting time[min] Waiting time[min]\n",
              "0             1.800              54.0\n",
              "1             3.333              74.0\n",
              "2             2.283              62.0\n",
              "3             4.533              85.0\n",
              "4             2.883              55.0"
            ]
          },
          "metadata": {
            "tags": []
          },
          "execution_count": 476
        }
      ]
    },
    {
      "metadata": {
        "id": "uNoc1pyLNwLx",
        "colab_type": "text"
      },
      "cell_type": "markdown",
      "source": [
        "## 散布図の表示\n",
        "横軸が噴出時間、縦軸が次の噴出までの待ち時間。どうやら二つのグループに分けられそう"
      ]
    },
    {
      "metadata": {
        "id": "ZYj2RIFqIYNs",
        "colab_type": "code",
        "outputId": "35d5d612-d9ad-42ff-a442-5f34bd430aa1",
        "colab": {
          "base_uri": "https://localhost:8080/",
          "height": 361
        }
      },
      "cell_type": "code",
      "source": [
        "plt.scatter(df[features[0]],df[features[1]])\n",
        "plt.xlabel(features[0])\n",
        "plt.ylabel(features[1])\n",
        "plt.show()"
      ],
      "execution_count": 477,
      "outputs": [
        {
          "output_type": "display_data",
          "data": {
            "image/png": "[encoded data removed]",
            "text/plain": [
              "<Figure size 576x396 with 1 Axes>"
            ]
          },
          "metadata": {
            "tags": []
          }
        }
      ]
    },
    {
      "metadata": {
        "id": "7Ofxo2hPN-vN",
        "colab_type": "text"
      },
      "cell_type": "markdown",
      "source": [
        "## データの標準化（平均０、分散１に）\n",
        "データ標準化に加えて、混合ガウス分布の初期値を決定し、散布図に合わせて描画"
      ]
    },
    {
      "metadata": {
        "id": "-PB4oqvILckF",
        "colab_type": "code",
        "outputId": "46965d8c-fb1b-4d51-c6f8-5443d93d1e55",
        "colab": {
          "base_uri": "https://localhost:8080/",
          "height": 376
        }
      },
      "cell_type": "code",
      "source": [
        "#データの標準化\n",
        "ss = pre.StandardScaler()\n",
        "data = ss.fit_transform(df)\n",
        "\n",
        "\n",
        "X,Y = np.meshgrid(np.linspace(-10,10,100),np.linspace(-10,10,100))\n",
        "pos = np.dstack((x,y))\n",
        "\n",
        "#1つ目のガウス分布\n",
        "mean1 = np.array([1, -1])\n",
        "cov1  = 0.2*np.array([[1.0,0.0],[0.0,1.0]])\n",
        "pi1=0.5\n",
        "Z1 = pi1*MN(mean1,cov1).pdf(pos)\n",
        "\n",
        "\n",
        "\n",
        "#2つ目のガウス分布\n",
        "mean2 = np.array([-1, 1])\n",
        "cov2  = 0.2*np.array([[1.0,0.0],[0.0,1.0]])\n",
        "pi2=0.5\n",
        "Z2 = pi2*MN(mean2,cov2).pdf(pos)\n",
        "\n",
        "#混合ガウス分布\n",
        "Z = Z1+Z2\n",
        "\n",
        "#間欠泉データのプロットと等高線の描画\n",
        "fig = plt.figure()\n",
        "ax = fig.add_subplot(111,aspect='equal')\n",
        "ax.contourf(X,Y,Z,cmap='binary')\n",
        "ax.set_xlim(-2,2)\n",
        "ax.set_ylim(-2,2)\n",
        "ax.set_xlabel('x')\n",
        "ax.set_ylabel('y')\n",
        "ax.set_title('pdf')\n",
        "ax.scatter(data[:,0],data[:,1])\n",
        "plt.show()"
      ],
      "execution_count": 485,
      "outputs": [
        {
          "output_type": "display_data",
          "data": {
            "image/png": "[encoded data removed]",
            "text/plain": [
              "<Figure size 576x396 with 1 Axes>"
            ]
          },
          "metadata": {
            "tags": []
          }
        }
      ]
    },
    {
      "metadata": {
        "id": "EAPNr6ec1G73",
        "colab_type": "text"
      },
      "cell_type": "markdown",
      "source": [
        "z=z1+z2をEMアルゴリズムに与える初期の混合ガウス分布とする。\n",
        "EMアリゴリズムは処理が重いので、一般的には初期分布を求めるために、先にK-meansアルゴリズムを使ったりする。"
      ]
    },
    {
      "metadata": {
        "id": "jemUWgEaQgyd",
        "colab_type": "text"
      },
      "cell_type": "markdown",
      "source": [
        "## EMアルゴリズムの実装\n",
        "EMアルゴリズムでやっていることは、簡単に言うと対数尤度の最大化を図ろうとしている。\n",
        "混合ガウス分布の場合、局所解が複数あり、どれに収束するかはやってみないと分からない。"
      ]
    },
    {
      "metadata": {
        "id": "0A3Os8hJQgKQ",
        "colab_type": "code",
        "colab": {}
      },
      "cell_type": "code",
      "source": [
        "#対数尤度計算\n",
        "def calc_LH(mean1,mean2,cov1,cov2,pi1,pi2,data):\n",
        "  LH = 0\n",
        "  for i in range(len(data)):\n",
        "    x1=data[i][0]\n",
        "    x2=data[i][1]\n",
        "    MN1 = pi1*MN(mean1,cov1).pdf([x1,x2])\n",
        "    MN2 = pi2*MN(mean2,cov2).pdf([x1,x2])\n",
        "    LH = LH + math.log(MN1+MN2)\n",
        "  \n",
        "  return LH"
      ],
      "execution_count": 0,
      "outputs": []
    },
    {
      "metadata": {
        "id": "f3vTiVoA2cW4",
        "colab_type": "code",
        "colab": {}
      },
      "cell_type": "code",
      "source": [
        "#Eステップ(負担率計算)\n",
        "#負担率初期化\n",
        "def Estep(mean1,mean2,cov1,cov2,pi1,pi2,data):\n",
        "  gamma1=[0 for i in range(len(data))]\n",
        "  gamma2=[0 for i in range(len(data))]\n",
        "  for i in range(len(data)):\n",
        "    x1=data[i][0]\n",
        "    x2=data[i][1]\n",
        "    MN1 = pi1*MN(mean1,cov1).pdf([x1,x2])\n",
        "    MN2 = pi2*MN(mean2,cov2).pdf([x1,x2])\n",
        "    gamma1[i]= MN1/(MN1+MN2)\n",
        "    gamma2[i]= MN2/(MN1+MN2)\n",
        "  \n",
        "  return gamma1, gamma2"
      ],
      "execution_count": 0,
      "outputs": []
    },
    {
      "metadata": {
        "id": "VAIR9GcBURST",
        "colab_type": "code",
        "colab": {}
      },
      "cell_type": "code",
      "source": [
        "#Mステップ(現在の負担率を計算し、パラメータ更新)\n",
        "#Nkの更新\n",
        "def M_step(gamm1,gamma2,data):\n",
        "  N1=N2=0\n",
        "  for i in range(len(data)):\n",
        "    N1 = N1 + gamma1[i]\n",
        "    N2 = N2 + gamma2[i]\n",
        "\n",
        "  #混合係数の更新\n",
        "  pi1 = N1/len(data)\n",
        "  pi2 = N2/len(data)\n",
        "\n",
        "  #平均の更新\n",
        "  mean1 = np.array([0,0])\n",
        "  mean2 = np.array([0,0])\n",
        "  for i in range(len(data)): \n",
        "    mean1 = mean1 + gamma1[i]*data[i]/N1\n",
        "    mean2 = mean2 + gamma2[i]*data[i]/N2\n",
        "\n",
        "  #分散の更新\n",
        "  cov1  = np.array([[0.0,0.0],[0.0,0.0]])\n",
        "  cov2  = np.array([[0.0,0.0],[0.0,0.0]])\n",
        "  for i in range(len(data)):\n",
        "    a1 = data[i]-mean1\n",
        "    a1 = a1.reshape((1,2))\n",
        "    cov1 = cov1 + np.dot(a1.T,a1)*gamma1[i]/N1\n",
        "    a2 = data[i]-mean2\n",
        "    a2 = a2.reshape((1,2))\n",
        "    cov2 = cov2 + np.dot(a2.T,a2)*gamma2[i]/N2\n",
        "  return pi1,pi2,mean1,mean2,cov1,cov2"
      ],
      "execution_count": 0,
      "outputs": []
    },
    {
      "metadata": {
        "id": "Zh2VrpvlXR3c",
        "colab_type": "code",
        "outputId": "c7bde5a7-8eb0-4b1d-f5c0-40cf9bccf806",
        "colab": {
          "base_uri": "https://localhost:8080/",
          "height": 304
        }
      },
      "cell_type": "code",
      "source": [
        "#EMアルゴリズムの実行\n",
        "LH_pre = 100\n",
        "LH = 0\n",
        "N = 0\n",
        "while abs(LH_pre-LH)>1:\n",
        "  N = N+1\n",
        "  LH_pre=LH\n",
        "  LH = calc_LH(mean1,mean2,cov1,cov2,pi1,pi2,data)\n",
        "  print(LH)\n",
        "  gamma1,gamma2=Estep(mean1,mean2,cov1,cov2,pi1,pi2,data)\n",
        "  pi1,pi2,mean1,mean2,conv1,cov2=M_step(gamma1,gamma2,data)\n",
        "  \n",
        "print('EMアルゴリズムは%.d回で収束しました'%N)"
      ],
      "execution_count": 486,
      "outputs": [
        {
          "output_type": "stream",
          "text": [
            "-2433.1413680905\n",
            "-740.153646887109\n",
            "-525.6521054760293\n",
            "-498.30044672438044\n",
            "-486.7967272510528\n",
            "-479.43134896363637\n",
            "-473.899306967838\n",
            "-468.79298091973027\n",
            "-462.642456535324\n",
            "-453.2666574059002\n",
            "-438.2000523966594\n",
            "-420.95418836321153\n",
            "-409.5010790278457\n",
            "-403.97239981504146\n",
            "-403.6209607027961\n",
            "EMアルゴリズムは15回で収束しました\n"
          ],
          "name": "stdout"
        }
      ]
    },
    {
      "metadata": {
        "id": "ePjdxP9D3K3G",
        "colab_type": "text"
      },
      "cell_type": "markdown",
      "source": [
        "# EMアルゴリズム後の推定混合ガウス分布\n",
        "EMアルゴリズム後、ちゃんと推定できているか確認"
      ]
    },
    {
      "metadata": {
        "id": "kyz9mn84mRRF",
        "colab_type": "code",
        "outputId": "e221b387-f925-448b-bc77-c2c1e0d37240",
        "colab": {
          "base_uri": "https://localhost:8080/",
          "height": 376
        }
      },
      "cell_type": "code",
      "source": [
        "#データの標準化\n",
        "ss = pre.StandardScaler()\n",
        "data = ss.fit_transform(df)\n",
        "\n",
        "\n",
        "X,Y = np.meshgrid(np.linspace(-10,10,100),np.linspace(-10,10,100))\n",
        "pos = np.dstack((x,y))\n",
        "\n",
        "#1つ目のガウス分布\n",
        "Z1 = pi1*MN(mean1,cov1).pdf(pos)\n",
        "#2つ目のガウス分布\n",
        "Z2 = pi2*MN(mean2,cov2).pdf(pos)\n",
        "\n",
        "#混合ガウス分布\n",
        "Z = Z1+Z2\n",
        "\n",
        "#間欠泉データのプロットと等高線の描画\n",
        "fig = plt.figure()\n",
        "ax = fig.add_subplot(111,aspect='equal')\n",
        "ax.contourf(X,Y,Z,cmap='binary')\n",
        "ax.set_xlim(-2,2)\n",
        "ax.set_ylim(-2,2)\n",
        "ax.set_xlabel('x')\n",
        "ax.set_ylabel('y')\n",
        "ax.set_title('pdf')\n",
        "\n",
        "ax.scatter(data[:,0],data[:,1])\n",
        "\n",
        "plt.show()"
      ],
      "execution_count": 488,
      "outputs": [
        {
          "output_type": "display_data",
          "data": {
            "image/png": "[encoded data removed]",
            "text/plain": [
              "<Figure size 576x396 with 1 Axes>"
            ]
          },
          "metadata": {
            "tags": []
          }
        }
      ]
    },
    {
      "metadata": {
        "id": "AvhPxyVD3dT_",
        "colab_type": "text"
      },
      "cell_type": "markdown",
      "source": [
        "なんか問題無さそう(;´･ω･)"
      ]
    },
    {
      "metadata": {
        "id": "mzoVvjB-qkqm",
        "colab_type": "code",
        "colab": {}
      },
      "cell_type": "code",
      "source": [
        ""
      ],
      "execution_count": 0,
      "outputs": []
    }
  ]
}
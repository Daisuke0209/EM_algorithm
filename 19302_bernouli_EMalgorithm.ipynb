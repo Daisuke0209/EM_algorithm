{
  "nbformat": 4,
  "nbformat_minor": 0,
  "metadata": {
    "colab": {
      "name": "19302_bernouli_EMalgorithm.ipynb",
      "version": "0.3.2",
      "provenance": [],
      "include_colab_link": true
    },
    "kernelspec": {
      "name": "python3",
      "display_name": "Python 3"
    },
    "accelerator": "GPU"
  },
  "cells": [
    {
      "cell_type": "markdown",
      "metadata": {
        "id": "view-in-github",
        "colab_type": "text"
      },
      "source": [
        "<a href=\"https://colab.research.google.com/github/Daisuke0209/EM_algorithm/blob/master/19302_bernouli_EMalgorithm.ipynb\" target=\"_parent\"><img src=\"https://colab.research.google.com/assets/colab-badge.svg\" alt=\"Open In Colab\"/></a>"
      ]
    },
    {
      "metadata": {
        "id": "bNXXbvJa-x1-",
        "colab_type": "text"
      },
      "cell_type": "markdown",
      "source": [
        "## ライブラリのインポート"
      ]
    },
    {
      "metadata": {
        "id": "34KrMk--WOPr",
        "colab_type": "code",
        "colab": {
          "base_uri": "https://localhost:8080/",
          "height": 35
        },
        "outputId": "bfb571d2-ebf1-45fd-c7f4-a0eacaaa54bd"
      },
      "cell_type": "code",
      "source": [
        "import glob\n",
        "import matplotlib.pyplot as plt\n",
        "import pandas as pd\n",
        "import numpy as np\n",
        "from mpl_toolkits.mplot3d import Axes3D\n",
        "from sklearn.datasets import fetch_mldata\n",
        "from keras.preprocessing.image import load_img, img_to_array, array_to_img\n",
        "from scipy.special import logsumexp"
      ],
      "execution_count": 1,
      "outputs": [
        {
          "output_type": "stream",
          "text": [
            "Using TensorFlow backend.\n"
          ],
          "name": "stderr"
        }
      ]
    },
    {
      "metadata": {
        "id": "UVPfn4KO-ToC",
        "colab_type": "text"
      },
      "cell_type": "markdown",
      "source": [
        "## MNIST手書き文字のロード\n",
        "Google ColabにはMNIST手書き文字データが標準でフォルダにある"
      ]
    },
    {
      "metadata": {
        "id": "xCw32-xL7dz1",
        "colab_type": "code",
        "outputId": "68750220-e1a9-43c0-b09d-564b4a577eaf",
        "colab": {
          "base_uri": "https://localhost:8080/",
          "height": 227
        }
      },
      "cell_type": "code",
      "source": [
        "df = pd.read_csv('/content/sample_data/mnist_train_small.csv')\n",
        "df.columns = ['num']+[i+1 for i in range(784)]\n",
        "df.head()"
      ],
      "execution_count": 2,
      "outputs": [
        {
          "output_type": "execute_result",
          "data": {
            "text/html": [
              "<div>\n",
              "<style scoped>\n",
              "    .dataframe tbody tr th:only-of-type {\n",
              "        vertical-align: middle;\n",
              "    }\n",
              "\n",
              "    .dataframe tbody tr th {\n",
              "        vertical-align: top;\n",
              "    }\n",
              "\n",
              "    .dataframe thead th {\n",
              "        text-align: right;\n",
              "    }\n",
              "</style>\n",
              "<table border=\"1\" class=\"dataframe\">\n",
              "  <thead>\n",
              "    <tr style=\"text-align: right;\">\n",
              "      <th></th>\n",
              "      <th>num</th>\n",
              "      <th>1</th>\n",
              "      <th>2</th>\n",
              "      <th>3</th>\n",
              "      <th>4</th>\n",
              "      <th>5</th>\n",
              "      <th>6</th>\n",
              "      <th>7</th>\n",
              "      <th>8</th>\n",
              "      <th>9</th>\n",
              "      <th>...</th>\n",
              "      <th>775</th>\n",
              "      <th>776</th>\n",
              "      <th>777</th>\n",
              "      <th>778</th>\n",
              "      <th>779</th>\n",
              "      <th>780</th>\n",
              "      <th>781</th>\n",
              "      <th>782</th>\n",
              "      <th>783</th>\n",
              "      <th>784</th>\n",
              "    </tr>\n",
              "  </thead>\n",
              "  <tbody>\n",
              "    <tr>\n",
              "      <th>0</th>\n",
              "      <td>5</td>\n",
              "      <td>0</td>\n",
              "      <td>0</td>\n",
              "      <td>0</td>\n",
              "      <td>0</td>\n",
              "      <td>0</td>\n",
              "      <td>0</td>\n",
              "      <td>0</td>\n",
              "      <td>0</td>\n",
              "      <td>0</td>\n",
              "      <td>...</td>\n",
              "      <td>0</td>\n",
              "      <td>0</td>\n",
              "      <td>0</td>\n",
              "      <td>0</td>\n",
              "      <td>0</td>\n",
              "      <td>0</td>\n",
              "      <td>0</td>\n",
              "      <td>0</td>\n",
              "      <td>0</td>\n",
              "      <td>0</td>\n",
              "    </tr>\n",
              "    <tr>\n",
              "      <th>1</th>\n",
              "      <td>7</td>\n",
              "      <td>0</td>\n",
              "      <td>0</td>\n",
              "      <td>0</td>\n",
              "      <td>0</td>\n",
              "      <td>0</td>\n",
              "      <td>0</td>\n",
              "      <td>0</td>\n",
              "      <td>0</td>\n",
              "      <td>0</td>\n",
              "      <td>...</td>\n",
              "      <td>0</td>\n",
              "      <td>0</td>\n",
              "      <td>0</td>\n",
              "      <td>0</td>\n",
              "      <td>0</td>\n",
              "      <td>0</td>\n",
              "      <td>0</td>\n",
              "      <td>0</td>\n",
              "      <td>0</td>\n",
              "      <td>0</td>\n",
              "    </tr>\n",
              "    <tr>\n",
              "      <th>2</th>\n",
              "      <td>9</td>\n",
              "      <td>0</td>\n",
              "      <td>0</td>\n",
              "      <td>0</td>\n",
              "      <td>0</td>\n",
              "      <td>0</td>\n",
              "      <td>0</td>\n",
              "      <td>0</td>\n",
              "      <td>0</td>\n",
              "      <td>0</td>\n",
              "      <td>...</td>\n",
              "      <td>0</td>\n",
              "      <td>0</td>\n",
              "      <td>0</td>\n",
              "      <td>0</td>\n",
              "      <td>0</td>\n",
              "      <td>0</td>\n",
              "      <td>0</td>\n",
              "      <td>0</td>\n",
              "      <td>0</td>\n",
              "      <td>0</td>\n",
              "    </tr>\n",
              "    <tr>\n",
              "      <th>3</th>\n",
              "      <td>5</td>\n",
              "      <td>0</td>\n",
              "      <td>0</td>\n",
              "      <td>0</td>\n",
              "      <td>0</td>\n",
              "      <td>0</td>\n",
              "      <td>0</td>\n",
              "      <td>0</td>\n",
              "      <td>0</td>\n",
              "      <td>0</td>\n",
              "      <td>...</td>\n",
              "      <td>0</td>\n",
              "      <td>0</td>\n",
              "      <td>0</td>\n",
              "      <td>0</td>\n",
              "      <td>0</td>\n",
              "      <td>0</td>\n",
              "      <td>0</td>\n",
              "      <td>0</td>\n",
              "      <td>0</td>\n",
              "      <td>0</td>\n",
              "    </tr>\n",
              "    <tr>\n",
              "      <th>4</th>\n",
              "      <td>2</td>\n",
              "      <td>0</td>\n",
              "      <td>0</td>\n",
              "      <td>0</td>\n",
              "      <td>0</td>\n",
              "      <td>0</td>\n",
              "      <td>0</td>\n",
              "      <td>0</td>\n",
              "      <td>0</td>\n",
              "      <td>0</td>\n",
              "      <td>...</td>\n",
              "      <td>0</td>\n",
              "      <td>0</td>\n",
              "      <td>0</td>\n",
              "      <td>0</td>\n",
              "      <td>0</td>\n",
              "      <td>0</td>\n",
              "      <td>0</td>\n",
              "      <td>0</td>\n",
              "      <td>0</td>\n",
              "      <td>0</td>\n",
              "    </tr>\n",
              "  </tbody>\n",
              "</table>\n",
              "<p>5 rows × 785 columns</p>\n",
              "</div>"
            ],
            "text/plain": [
              "   num  1  2  3  4  5  6  7  8  9 ...   775  776  777  778  779  780  781  \\\n",
              "0    5  0  0  0  0  0  0  0  0  0 ...     0    0    0    0    0    0    0   \n",
              "1    7  0  0  0  0  0  0  0  0  0 ...     0    0    0    0    0    0    0   \n",
              "2    9  0  0  0  0  0  0  0  0  0 ...     0    0    0    0    0    0    0   \n",
              "3    5  0  0  0  0  0  0  0  0  0 ...     0    0    0    0    0    0    0   \n",
              "4    2  0  0  0  0  0  0  0  0  0 ...     0    0    0    0    0    0    0   \n",
              "\n",
              "   782  783  784  \n",
              "0    0    0    0  \n",
              "1    0    0    0  \n",
              "2    0    0    0  \n",
              "3    0    0    0  \n",
              "4    0    0    0  \n",
              "\n",
              "[5 rows x 785 columns]"
            ]
          },
          "metadata": {
            "tags": []
          },
          "execution_count": 2
        }
      ]
    },
    {
      "metadata": {
        "id": "a8MdbrclA2Nk",
        "colab_type": "text"
      },
      "cell_type": "markdown",
      "source": [
        "### 数字=2,3,4のみ抽出"
      ]
    },
    {
      "metadata": {
        "id": "_jD4Y_ei_tNu",
        "colab_type": "code",
        "colab": {}
      },
      "cell_type": "code",
      "source": [
        "df = df[(df['num']==2) | (df['num']==3) | (df['num']==4)]\n",
        "max_N = len(df)\n",
        "N = 600\n",
        "df_test = df[N:max_N]\n",
        "df = df[0:N]"
      ],
      "execution_count": 0,
      "outputs": []
    },
    {
      "metadata": {
        "id": "HRqnmsF7-5y7",
        "colab_type": "text"
      },
      "cell_type": "markdown",
      "source": [
        "### 試し表示"
      ]
    },
    {
      "metadata": {
        "id": "qv_BtZfT7Y7g",
        "colab_type": "code",
        "outputId": "f40bfc34-c437-4784-bad2-284fe7986697",
        "colab": {
          "base_uri": "https://localhost:8080/",
          "height": 365
        }
      },
      "cell_type": "code",
      "source": [
        "a = df[0:1].values\n",
        "b = a[0,1:785]\n",
        "b = b.reshape(28,28)\n",
        "plt.imshow(b)\n",
        "print('下の文字は%.dです'%a[0,0])"
      ],
      "execution_count": 12,
      "outputs": [
        {
          "output_type": "stream",
          "text": [
            "下の文字は2です\n"
          ],
          "name": "stdout"
        },
        {
          "output_type": "display_data",
          "data": {
            "image/png": "[encoded data removed]",
            "text/plain": [
              "<Figure size 576x396 with 1 Axes>"
            ]
          },
          "metadata": {
            "tags": []
          }
        }
      ]
    },
    {
      "metadata": {
        "id": "PqFM5W7PA_cV",
        "colab_type": "text"
      },
      "cell_type": "markdown",
      "source": [
        "これは'2'だそうです(;´･ω･)"
      ]
    },
    {
      "metadata": {
        "id": "DT6yR3NpBjX_",
        "colab_type": "text"
      },
      "cell_type": "markdown",
      "source": [
        "## 画像の２値化"
      ]
    },
    {
      "metadata": {
        "id": "iCtymKV8UbuU",
        "colab_type": "code",
        "outputId": "f9f02bcc-4bdc-44a5-fede-362add197af3",
        "colab": {
          "base_uri": "https://localhost:8080/",
          "height": 365
        }
      },
      "cell_type": "code",
      "source": [
        "features = [col for col in df.columns if col not in ['num']]\n",
        "target = df['num'].values\n",
        "X = df[features].values\n",
        "X = X/255\n",
        "\n",
        "#画像の２値化\n",
        "X = (X>0.5)*1\n",
        "\n",
        "a = X[0]\n",
        "a = a.reshape(28,28)\n",
        "\n",
        "#画像表示\n",
        "plt.imshow(a)"
      ],
      "execution_count": 13,
      "outputs": [
        {
          "output_type": "execute_result",
          "data": {
            "text/plain": [
              "<matplotlib.image.AxesImage at 0x7f334d8c2160>"
            ]
          },
          "metadata": {
            "tags": []
          },
          "execution_count": 13
        },
        {
          "output_type": "display_data",
          "data": {
            "image/png": "[encoded data removed]",
            "text/plain": [
              "<Figure size 576x396 with 1 Axes>"
            ]
          },
          "metadata": {
            "tags": []
          }
        }
      ]
    },
    {
      "metadata": {
        "id": "7vNy0XtKF_Pt",
        "colab_type": "text"
      },
      "cell_type": "markdown",
      "source": [
        "２値化で結構クッキリ見えました！"
      ]
    },
    {
      "metadata": {
        "id": "sjm1727BGZ5c",
        "colab_type": "text"
      },
      "cell_type": "markdown",
      "source": [
        "## 混合ベルヌーイ分布EMアルゴリズムの実装\n",
        "混合ベルヌーイ分布アルゴリズムを実装する。\n",
        "\n",
        "ここでは、\n",
        "K = 3：混合分布における分布数\n",
        "pi：混合係数\n",
        "mu：各ベルヌーイ分布の平均\n",
        "D：画像の次元数\n",
        "N：学習画像の枚数\n",
        "となる。\n",
        "\n",
        "EMアルゴリズムの大まかな流れは、\n",
        "1. 負担率の計算（Eステップ）\n",
        "2. パラメータ更新（Ｍステップ）\n",
        "となる。通常はパラメータ収束まで繰り返すが、\n",
        "今回は簡単のため１０回繰り返し計算\n"
      ]
    },
    {
      "metadata": {
        "id": "R9aeiVqjz7Zi",
        "colab_type": "text"
      },
      "cell_type": "markdown",
      "source": [
        "### パラメータの初期化\n",
        "混合係数の初期値は均等配分\n",
        "\n",
        "muは、(0.25,0.75)の一様分布に従って振る"
      ]
    },
    {
      "metadata": {
        "id": "pJzcChy9CVWW",
        "colab_type": "code",
        "colab": {}
      },
      "cell_type": "code",
      "source": [
        "#混合分布における分布数\n",
        "K=3\n",
        "#混合係数初期化\n",
        "pi = [1/K for i in range(K)]\n",
        "#平均初期化\n",
        "mu = []\n",
        "for k in range(K):\n",
        "  cash = []\n",
        "  for i in range(784):\n",
        "    #(0.25,0.75)の一様分布\n",
        "    cash.append(np.random.uniform(0.25,0.75))\n",
        "  #正規化\n",
        "  cash = cash/np.sum(cash)\n",
        "  mu.append(cash)"
      ],
      "execution_count": 0,
      "outputs": []
    },
    {
      "metadata": {
        "id": "1VGwpB2ANcem",
        "colab_type": "text"
      },
      "cell_type": "markdown",
      "source": [
        "### 負担率の計算（Eステップ）\n",
        "Eステップには注意点が２点ある。\n",
        "\n",
        "注意点１：\n",
        "負担率計算時にベルヌーイ分布の確率密度関数から確率を計算するが、確率密度関数は総和ではなく総乗計算になるため、帰り値がものすごく小さい値になってしまう（てか、０になるケースがある）。この場合、負担率が正しく計算されない（実際にやった）。\n",
        "そこで、負担率の計算においては、logの世界で一旦計算し、最後にexpを作用させて負担率を計算する。ただし、負担率の分母計算ではlogsumexp関数を使う必要がある（logが直接、総乗項に作用できないため）。logsumexpの簡単な説明は、要はxをベクトルとしたとき、\n",
        "logsumexp(x) = log(sum(exp(x)))\n",
        "となる。\n",
        "\n",
        "注意点２：\n",
        "注意点１に従って、確率密度関数の対数を計算する際、μ=0,1になってしまうと対数確率密度関数が発散してしまう。そこで、μ=0,1の場合は0を返すことにした\n"
      ]
    },
    {
      "metadata": {
        "id": "Lxq0B0SaHFNW",
        "colab_type": "code",
        "colab": {}
      },
      "cell_type": "code",
      "source": [
        "D = 784\n",
        "\n",
        "#k番目のベルヌーイ分布に対する確率密度関数\n",
        "#使っちゃだめ\n",
        "def calc_p(mu,X,k,n,D):\n",
        "  p = 1\n",
        "  for i in range(D):\n",
        "    p = p*(mu[k][i]**X[n][i])*((1-mu[k][i])**(1-X[n][i]))  \n",
        "  return p\n",
        "#k番目のベルヌーイ分布に対する対数確率密度関数\n",
        "def calc_log_p(mu,X,k,n,D):\n",
        "  p = 0\n",
        "  for i in range(D):\n",
        "    if mu[k][i]!=0 and mu[k][i]!=1:\n",
        "      p = p+X[n][i]*np.log(mu[k][i])+(1-X[n][i])*np.log(1-mu[k][i])  \n",
        "  return p\n",
        "# 負担率の計算\n",
        "#使っちゃだめ\n",
        "def calc_gamma(mu, X, k, n, pi, K, D):\n",
        "  sum = 0\n",
        "  for j in range(K):\n",
        "    sum = sum + pi[j]*calc_p(mu, X, j, n, D)\n",
        "  if sum == 0:\n",
        "    return 0\n",
        "  else:\n",
        "    return pi[k]*calc_p(mu, X, k, n, D)/sum\n",
        "#負担率の計算（log-expをかましてる）\n",
        "def calc_gamma_log(mu, X, k, n, pi, K, D):\n",
        "  a = []\n",
        "  for j in range(K):\n",
        "    a.append(np.log(pi[j])+calc_log_p(mu,X,j,n,D))\n",
        "  logsum = logsumexp(a)\n",
        "  b = np.log(pi[k])+calc_log_p(mu,X,k,n,D)\n",
        "  return np.exp(b-logsum) "
      ],
      "execution_count": 0,
      "outputs": []
    },
    {
      "metadata": {
        "id": "dFzep5nKO4iT",
        "colab_type": "text"
      },
      "cell_type": "markdown",
      "source": [
        "### パラメータ（平均、混合係数）更新（Ｍステップ）"
      ]
    },
    {
      "metadata": {
        "id": "hUTytEnhNAbd",
        "colab_type": "code",
        "colab": {}
      },
      "cell_type": "code",
      "source": [
        "def calc_param(N,gamma,k, X, D):\n",
        "  #Nkの計算\n",
        "  Nk = 0\n",
        "  for n in range(N):\n",
        "    Nk = Nk + gamma[k][n] \n",
        "  x = [0 for i in range(D)]\n",
        "  for n in range(N):\n",
        "    x = x + gamma[k][n]*X[n] \n",
        "  return Nk,x/Nk"
      ],
      "execution_count": 0,
      "outputs": []
    },
    {
      "metadata": {
        "id": "7VwEhmGO0RO6",
        "colab_type": "text"
      },
      "cell_type": "markdown",
      "source": [
        "### EMアルゴリズムの実行"
      ]
    },
    {
      "metadata": {
        "id": "ZhOhmnM-ez-P",
        "colab_type": "code",
        "colab": {}
      },
      "cell_type": "code",
      "source": [
        "imgs = []\n",
        "#学習の実行\n",
        "for i in range(10):\n",
        "  imgs.append(mu)\n",
        "  #Eステップ（負担率の計算）\n",
        "  gamma = []\n",
        "  for k in range(K):\n",
        "    cash = []\n",
        "    for n in range(N):\n",
        "      a = calc_gamma_log(mu, X, k, n, pi, K, D)\n",
        "      cash.append(a)\n",
        "      if n%100 == 0:\n",
        "        print('k=%.d,n=%.dは終了'%(k+1,n))    \n",
        "    gamma.append(cash)\n",
        "  #Mステップ（パラメータの更新）\n",
        "  mu = []\n",
        "  pi = []\n",
        "  for k in range(K):\n",
        "    xk = []\n",
        "    Nk, xk = calc_param(N,gamma,k,X,D)\n",
        "    pi.append(Nk/N)\n",
        "    mu.append(xk)    "
      ],
      "execution_count": 0,
      "outputs": []
    },
    {
      "metadata": {
        "id": "dSDsvsen0fYK",
        "colab_type": "text"
      },
      "cell_type": "markdown",
      "source": [
        "### 平均画像の表示"
      ]
    },
    {
      "metadata": {
        "id": "pLl7lR-JrCYx",
        "colab_type": "code",
        "outputId": "980f6bb8-f729-41b1-c923-6421173f0d1c",
        "colab": {
          "base_uri": "https://localhost:8080/",
          "height": 1052
        }
      },
      "cell_type": "code",
      "source": [
        "img1 = np.array(mu[0])\n",
        "img1 = img1.reshape(28,28)\n",
        "img2 = np.array(mu[1])\n",
        "img2 = img2.reshape(28,28)\n",
        "img3 = np.array(mu[2])\n",
        "img3 = img3.reshape(28,28)\n",
        "## 1枚目\n",
        "fig1 = plt.figure()\n",
        "ax = fig1.add_subplot(111)\n",
        "ax.set_title('img1')\n",
        "img1 = ax.imshow(img1)\n",
        "\n",
        "## 2枚目\n",
        "fig2 = plt.figure()\n",
        "ax = fig2.add_subplot(111)\n",
        "ax.set_title('img2')\n",
        "img2 = ax.imshow(img2)\n",
        "\n",
        "## 3枚目\n",
        "fig3 = plt.figure()\n",
        "ax = fig3.add_subplot(111)\n",
        "ax.set_title('img3')\n",
        "img3 = ax.imshow(img3)\n",
        "\n",
        "## 表示\n",
        "plt.show()"
      ],
      "execution_count": 27,
      "outputs": [
        {
          "output_type": "display_data",
          "data": {
            "image/png": "[encoded data removed]",
            "text/plain": [
              "<Figure size 576x396 with 1 Axes>"
            ]
          },
          "metadata": {
            "tags": []
          }
        },
        {
          "output_type": "display_data",
          "data": {
            "image/png": "[encoded data removed]",
            "text/plain": [
              "<Figure size 576x396 with 1 Axes>"
            ]
          },
          "metadata": {
            "tags": []
          }
        },
        {
          "output_type": "display_data",
          "data": {
            "image/png": "[encoded data removed]",
            "text/plain": [
              "<Figure size 576x396 with 1 Axes>"
            ]
          },
          "metadata": {
            "tags": []
          }
        }
      ]
    },
    {
      "metadata": {
        "id": "Ii-kaMYe2h7W",
        "colab_type": "text"
      },
      "cell_type": "markdown",
      "source": [
        "上から順に3,2,4がぼんやりと見えている\n",
        "ぼんやりし過ぎ？？なんか間違えている？？"
      ]
    },
    {
      "metadata": {
        "id": "pvYuGuTmgm9f",
        "colab_type": "text"
      },
      "cell_type": "markdown",
      "source": [
        "##学習済みモデルを用いてMNISTクラスタリング"
      ]
    },
    {
      "metadata": {
        "id": "pAHhPYcNnDYf",
        "colab_type": "code",
        "colab": {}
      },
      "cell_type": "code",
      "source": [
        "n=6"
      ],
      "execution_count": 0,
      "outputs": []
    },
    {
      "metadata": {
        "id": "K4r3RPd2wSi6",
        "colab_type": "code",
        "colab": {
          "base_uri": "https://localhost:8080/",
          "height": 365
        },
        "outputId": "79b21c62-d1ad-4f59-ae83-d206e14d65e3"
      },
      "cell_type": "code",
      "source": [
        "features = [col for col in df.columns if col not in ['num']]\n",
        "# X = df_test[features].values\n",
        "X = df[features].values\n",
        "X = X/255\n",
        "\n",
        "#画像の２値化\n",
        "X = (X>0.5)*1\n",
        "\n",
        "a = X[n]\n",
        "a = a.reshape(28,28)\n",
        "\n",
        "#画像表示\n",
        "plt.imshow(a)"
      ],
      "execution_count": 38,
      "outputs": [
        {
          "output_type": "execute_result",
          "data": {
            "text/plain": [
              "<matplotlib.image.AxesImage at 0x7f334d7c9668>"
            ]
          },
          "metadata": {
            "tags": []
          },
          "execution_count": 38
        },
        {
          "output_type": "display_data",
          "data": {
            "image/png": "[encoded data removed]",
            "text/plain": [
              "<Figure size 576x396 with 1 Axes>"
            ]
          },
          "metadata": {
            "tags": []
          }
        }
      ]
    },
    {
      "metadata": {
        "id": "mjnxHOErGqNw",
        "colab_type": "text"
      },
      "cell_type": "markdown",
      "source": [
        "各分布への所属確率を計算するには、潜在変数Zの事後分布（p(z|x)を計算してやればいい。実はこれは、負担率の計算と同じ）"
      ]
    },
    {
      "metadata": {
        "id": "5V_uLtv4lswt",
        "colab_type": "code",
        "colab": {
          "base_uri": "https://localhost:8080/",
          "height": 35
        },
        "outputId": "e3bbcb16-9efa-40ad-8ec3-712114d75801"
      },
      "cell_type": "code",
      "source": [
        "p_2 = calc_gamma_log(mu, X, 0, n, pi, K, D)*100\n",
        "p_3 = calc_gamma_log(mu, X, 1, n, pi, K, D)*100\n",
        "p_4 = calc_gamma_log(mu, X, 2, n, pi, K, D)*100\n",
        "\n",
        "print('文字=(2,3,4)である確率は(%.d％,%.d％,%.d％)'%(p_2,p_3,p_4))"
      ],
      "execution_count": 39,
      "outputs": [
        {
          "output_type": "stream",
          "text": [
            "文字=(2,3,4)である確率は(100％,0％,0％)\n"
          ],
          "name": "stdout"
        }
      ]
    },
    {
      "metadata": {
        "id": "P9hOZ3--oOwN",
        "colab_type": "code",
        "colab": {}
      },
      "cell_type": "code",
      "source": [
        ""
      ],
      "execution_count": 0,
      "outputs": []
    }
  ]
}